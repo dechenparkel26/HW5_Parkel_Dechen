{
 "cells": [
  {
   "cell_type": "code",
   "execution_count": 3,
   "id": "de3e20e3",
   "metadata": {},
   "outputs": [
    {
     "name": "stdout",
     "output_type": "stream",
     "text": [
      "Hi, my name is  Mark  I am a  15  year old  male  and I am  5.8  feet tall\n",
      "Hi, my name is  Mary  I am a  36  year old  female  and I am  5.5  feet tall\n"
     ]
    }
   ],
   "source": [
    "class Human:\n",
    "    isconscious=True\n",
    "    hasbody=True\n",
    "    needsfood=True\n",
    "    likeschicken=True\n",
    "    def __init__(self,name,age,gender,height):\n",
    "        self.name=name\n",
    "        self.age=age\n",
    "        self.gender=gender\n",
    "        self.height=height\n",
    "    def introduce(self):\n",
    "        print(\"Hi, my name is \", self.name, \" I am a \", self.age, \" year old \", self.gender, \" and I am \", self.height, \" feet tall\")\n",
    "        \n",
    "A=Human('Mark',15,'male','5.8')\n",
    "B=Human('Mary',36,'female','5.5')\n",
    "\n",
    "A.introduce()\n",
    "B.introduce()\n"
   ]
  },
  {
   "cell_type": "code",
   "execution_count": 4,
   "id": "1432c256",
   "metadata": {},
   "outputs": [
    {
     "data": {
      "text/plain": [
       "5.0"
      ]
     },
     "execution_count": 4,
     "metadata": {},
     "output_type": "execute_result"
    }
   ],
   "source": [
    "import math\n",
    "\n",
    "class Point:\n",
    "    def __init__(self, x=0, y=0):\n",
    "        self.x = x\n",
    "        self.y = y\n",
    "    def distance(self):\n",
    "        return (self.x ** 2 + self.y ** 2)**0.5\n",
    "    \n",
    "A=Point(3,4)\n",
    "A.distance()"
   ]
  },
  {
   "cell_type": "code",
   "execution_count": null,
   "id": "cc5f26fb",
   "metadata": {},
   "outputs": [],
   "source": [
    "#Answer is A for question 3"
   ]
  },
  {
   "cell_type": "code",
   "execution_count": 6,
   "id": "4e7c8d0b",
   "metadata": {},
   "outputs": [],
   "source": [
    "#output is helloworld for question 4"
   ]
  },
  {
   "cell_type": "code",
   "execution_count": null,
   "id": "6e75de63",
   "metadata": {},
   "outputs": [],
   "source": [
    "#Answer for question 5 is C"
   ]
  },
  {
   "cell_type": "code",
   "execution_count": 8,
   "id": "086c90ef",
   "metadata": {},
   "outputs": [],
   "source": [
    "#Output for question 6 is TypeError: Only Integers Are Allowed"
   ]
  }
 ],
 "metadata": {
  "kernelspec": {
   "display_name": "Python 3 (ipykernel)",
   "language": "python",
   "name": "python3"
  },
  "language_info": {
   "codemirror_mode": {
    "name": "ipython",
    "version": 3
   },
   "file_extension": ".py",
   "mimetype": "text/x-python",
   "name": "python",
   "nbconvert_exporter": "python",
   "pygments_lexer": "ipython3",
   "version": "3.9.13"
  }
 },
 "nbformat": 4,
 "nbformat_minor": 5
}
